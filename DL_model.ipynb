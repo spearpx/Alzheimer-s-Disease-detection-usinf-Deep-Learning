{
 "cells": [
  {
   "cell_type": "code",
   "execution_count": 1,
   "id": "45e16e37",
   "metadata": {},
   "outputs": [],
   "source": [
    "#libraries\n",
    "import PIL\n",
    "import numpy as np\n",
    "import pandas as pd\n",
    "import matplotlib.pyplot as plt\n",
    "import skimage.io\n",
    "import os \n",
    "import tqdm\n",
    "import glob\n",
    "import tensorflow \n",
    "from tqdm import tqdm\n",
    "from sklearn.utils import shuffle\n",
    "from sklearn.model_selection import train_test_split\n",
    "\n",
    "from skimage.io import imread, imshow\n",
    "from skimage.transform import resize\n",
    "from skimage.color import *\n",
    "\n",
    "from tensorflow.keras.preprocessing.image import ImageDataGenerator\n",
    "from tensorflow.keras.models import Sequential\n",
    "from tensorflow.keras.layers import InputLayer, BatchNormalization, Dropout, Flatten, Dense, Activation, MaxPool2D, Conv2D\n",
    "from tensorflow.keras.callbacks import EarlyStopping, ModelCheckpoint\n",
    "from tensorflow.keras.applications import MobileNetV2\n",
    "from tensorflow.keras.preprocessing.image import load_img, img_to_array\n",
    "\n",
    "physical_devices = tensorflow.config.list_physical_devices(\"GPU\")\n",
    "tensorflow.config.experimental.set_memory_growth(physical_devices[0], True)"
   ]
  },
  {
   "cell_type": "code",
   "execution_count": 2,
   "id": "ce60170a",
   "metadata": {},
   "outputs": [],
   "source": [
    "train_datagen = ImageDataGenerator(rescale = 1./255,\n",
    "                                   validation_split = 0.2)\n",
    "\n",
    "valid_datagen = ImageDataGenerator(rescale = 1./255,\n",
    "                                   validation_split = 0.2)\n",
    "\n",
    "test_datagen  = ImageDataGenerator(rescale = 1./255)"
   ]
  },
  {
   "cell_type": "code",
   "execution_count": 3,
   "id": "7b41a950",
   "metadata": {},
   "outputs": [
    {
     "name": "stdout",
     "output_type": "stream",
     "text": [
      "Found 69151 images belonging to 4 classes.\n"
     ]
    }
   ],
   "source": [
    "train_dataset  = train_datagen.flow_from_directory(directory = 'OASISDataset/OASISDataset',\n",
    "                                                   target_size = (224,224),\n",
    "                                                   class_mode = 'categorical',\n",
    "                                                   subset = 'training',\n",
    "                                                   batch_size = 128)"
   ]
  },
  {
   "cell_type": "code",
   "execution_count": 4,
   "id": "38c4fd76",
   "metadata": {},
   "outputs": [
    {
     "name": "stdout",
     "output_type": "stream",
     "text": [
      "Found 17286 images belonging to 4 classes.\n"
     ]
    }
   ],
   "source": [
    "valid_dataset = valid_datagen.flow_from_directory(directory = 'OASISDataset/OASISDataset',\n",
    "                                                  target_size = (224,224),\n",
    "                                                  class_mode = 'categorical',\n",
    "                                                  subset = 'validation',\n",
    "                                                  batch_size = 128)"
   ]
  },
  {
   "cell_type": "code",
   "execution_count": 5,
   "id": "6ee05066",
   "metadata": {},
   "outputs": [],
   "source": [
    "# Model Initialization\n",
    "\n",
    "base_model = MobileNetV2(input_shape=(224,224,3), \n",
    "                         include_top=False,\n",
    "                         weights=\"imagenet\")"
   ]
  },
  {
   "cell_type": "code",
   "execution_count": 6,
   "id": "d6437aee",
   "metadata": {},
   "outputs": [],
   "source": [
    "# Freezing Layers\n",
    "\n",
    "for layer in base_model.layers:\n",
    "    layer.trainable=False"
   ]
  },
  {
   "cell_type": "code",
   "execution_count": 7,
   "id": "8596ad34",
   "metadata": {},
   "outputs": [],
   "source": [
    "# Building Model\n",
    "\n",
    "model=Sequential()\n",
    "model.add(base_model)\n",
    "model.add(Dropout(0.5))\n",
    "model.add(Flatten())\n",
    "model.add(BatchNormalization())\n",
    "model.add(Dense(2048,kernel_initializer='he_uniform'))\n",
    "model.add(BatchNormalization())\n",
    "model.add(Activation('relu'))\n",
    "model.add(Dropout(0.5))\n",
    "model.add(Dense(1024,kernel_initializer='he_uniform'))\n",
    "model.add(BatchNormalization())\n",
    "model.add(Activation('relu'))\n",
    "model.add(Dropout(0.5))\n",
    "model.add(Dense(512,kernel_initializer='he_uniform'))\n",
    "model.add(BatchNormalization())\n",
    "model.add(Activation('relu'))\n",
    "model.add(Dropout(0.5))\n",
    "model.add(Dense(4,activation='softmax'))\n"
   ]
  },
  {
   "cell_type": "code",
   "execution_count": 8,
   "id": "d781b3ef",
   "metadata": {},
   "outputs": [
    {
     "name": "stdout",
     "output_type": "stream",
     "text": [
      "Model: \"sequential\"\n",
      "_________________________________________________________________\n",
      " Layer (type)                Output Shape              Param #   \n",
      "=================================================================\n",
      " mobilenetv2_1.00_224 (Funct  (None, 7, 7, 1280)       2257984   \n",
      " ional)                                                          \n",
      "                                                                 \n",
      " dropout (Dropout)           (None, 7, 7, 1280)        0         \n",
      "                                                                 \n",
      " flatten (Flatten)           (None, 62720)             0         \n",
      "                                                                 \n",
      " batch_normalization (BatchN  (None, 62720)            250880    \n",
      " ormalization)                                                   \n",
      "                                                                 \n",
      " dense (Dense)               (None, 2048)              128452608 \n",
      "                                                                 \n",
      " batch_normalization_1 (Batc  (None, 2048)             8192      \n",
      " hNormalization)                                                 \n",
      "                                                                 \n",
      " activation (Activation)     (None, 2048)              0         \n",
      "                                                                 \n",
      " dropout_1 (Dropout)         (None, 2048)              0         \n",
      "                                                                 \n",
      " dense_1 (Dense)             (None, 1024)              2098176   \n",
      "                                                                 \n",
      " batch_normalization_2 (Batc  (None, 1024)             4096      \n",
      " hNormalization)                                                 \n",
      "                                                                 \n",
      " activation_1 (Activation)   (None, 1024)              0         \n",
      "                                                                 \n",
      " dropout_2 (Dropout)         (None, 1024)              0         \n",
      "                                                                 \n",
      " dense_2 (Dense)             (None, 512)               524800    \n",
      "                                                                 \n",
      " batch_normalization_3 (Batc  (None, 512)              2048      \n",
      " hNormalization)                                                 \n",
      "                                                                 \n",
      " activation_2 (Activation)   (None, 512)               0         \n",
      "                                                                 \n",
      " dropout_3 (Dropout)         (None, 512)               0         \n",
      "                                                                 \n",
      " dense_3 (Dense)             (None, 4)                 2052      \n",
      "                                                                 \n",
      "=================================================================\n",
      "Total params: 133,600,836\n",
      "Trainable params: 131,210,244\n",
      "Non-trainable params: 2,390,592\n",
      "_________________________________________________________________\n"
     ]
    }
   ],
   "source": [
    "# Summary\n",
    "\n",
    "model.summary()"
   ]
  },
  {
   "cell_type": "code",
   "execution_count": 9,
   "id": "85897bd1",
   "metadata": {},
   "outputs": [],
   "source": [
    "# Model Compile \n",
    "\n",
    "OPT    = tensorflow.keras.optimizers.Adam(learning_rate=0.0001)\n",
    "\n",
    "model.compile(loss='categorical_crossentropy',\n",
    "              metrics=['accuracy', tensorflow.keras.metrics.AUC(name = 'auc')],\n",
    "              optimizer=OPT)"
   ]
  },
  {
   "cell_type": "code",
   "execution_count": 10,
   "id": "edb42892",
   "metadata": {},
   "outputs": [],
   "source": [
    "# Defining Callbacks\n",
    "\n",
    "filepath = './best_weights.hdf5'\n",
    "\n",
    "earlystopping = EarlyStopping(monitor = 'val_auc', \n",
    "                              mode = 'max' , \n",
    "                              patience = 15,\n",
    "                              verbose = 1)\n",
    "\n",
    "checkpoint    = ModelCheckpoint(filepath, \n",
    "                                monitor = 'val_auc', \n",
    "                                mode='max', \n",
    "                                save_best_only=True, \n",
    "                                verbose = 1)\n",
    "\n",
    "\n",
    "callback_list = [earlystopping, checkpoint]"
   ]
  },
  {
   "cell_type": "code",
   "execution_count": 11,
   "id": "a33287a8",
   "metadata": {},
   "outputs": [
    {
     "name": "stdout",
     "output_type": "stream",
     "text": [
      "Epoch 1/20\n",
      "541/541 [==============================] - ETA: 0s - loss: 0.5139 - accuracy: 0.8105 - auc: 0.9553\n",
      "Epoch 1: val_auc improved from -inf to 0.91618, saving model to .\\best_weights.hdf5\n",
      "541/541 [==============================] - 191s 346ms/step - loss: 0.5139 - accuracy: 0.8105 - auc: 0.9553 - val_loss: 0.7918 - val_accuracy: 0.7434 - val_auc: 0.9162\n",
      "Epoch 2/20\n",
      "541/541 [==============================] - ETA: 0s - loss: 0.1338 - accuracy: 0.9534 - auc: 0.9964\n",
      "Epoch 2: val_auc did not improve from 0.91618\n",
      "541/541 [==============================] - 86s 159ms/step - loss: 0.1338 - accuracy: 0.9534 - auc: 0.9964 - val_loss: 0.9723 - val_accuracy: 0.7465 - val_auc: 0.9128\n",
      "Epoch 3/20\n",
      "541/541 [==============================] - ETA: 0s - loss: 0.0642 - accuracy: 0.9783 - auc: 0.9990\n",
      "Epoch 3: val_auc did not improve from 0.91618\n",
      "541/541 [==============================] - 85s 158ms/step - loss: 0.0642 - accuracy: 0.9783 - auc: 0.9990 - val_loss: 1.0959 - val_accuracy: 0.7569 - val_auc: 0.9085\n",
      "Epoch 4/20\n",
      "541/541 [==============================] - ETA: 0s - loss: 0.0439 - accuracy: 0.9848 - auc: 0.9995\n",
      "Epoch 4: val_auc did not improve from 0.91618\n",
      "541/541 [==============================] - 86s 158ms/step - loss: 0.0439 - accuracy: 0.9848 - auc: 0.9995 - val_loss: 1.2070 - val_accuracy: 0.7499 - val_auc: 0.9027\n",
      "Epoch 5/20\n",
      "541/541 [==============================] - ETA: 0s - loss: 0.0339 - accuracy: 0.9887 - auc: 0.9996\n",
      "Epoch 5: val_auc did not improve from 0.91618\n",
      "541/541 [==============================] - 85s 158ms/step - loss: 0.0339 - accuracy: 0.9887 - auc: 0.9996 - val_loss: 1.2332 - val_accuracy: 0.7617 - val_auc: 0.9060\n",
      "Epoch 6/20\n",
      "541/541 [==============================] - ETA: 0s - loss: 0.0260 - accuracy: 0.9911 - auc: 0.9998\n",
      "Epoch 6: val_auc did not improve from 0.91618\n",
      "541/541 [==============================] - 86s 158ms/step - loss: 0.0260 - accuracy: 0.9911 - auc: 0.9998 - val_loss: 1.3558 - val_accuracy: 0.7504 - val_auc: 0.8980\n",
      "Epoch 7/20\n",
      "541/541 [==============================] - ETA: 0s - loss: 0.0234 - accuracy: 0.9920 - auc: 0.9998\n",
      "Epoch 7: val_auc did not improve from 0.91618\n",
      "541/541 [==============================] - 85s 158ms/step - loss: 0.0234 - accuracy: 0.9920 - auc: 0.9998 - val_loss: 1.3925 - val_accuracy: 0.7559 - val_auc: 0.8977\n",
      "Epoch 8/20\n",
      "541/541 [==============================] - ETA: 0s - loss: 0.0195 - accuracy: 0.9934 - auc: 0.9998\n",
      "Epoch 8: val_auc did not improve from 0.91618\n",
      "541/541 [==============================] - 85s 157ms/step - loss: 0.0195 - accuracy: 0.9934 - auc: 0.9998 - val_loss: 1.4938 - val_accuracy: 0.7507 - val_auc: 0.8937\n",
      "Epoch 9/20\n",
      "541/541 [==============================] - ETA: 0s - loss: 0.0176 - accuracy: 0.9939 - auc: 0.9999\n",
      "Epoch 9: val_auc did not improve from 0.91618\n",
      "541/541 [==============================] - 85s 157ms/step - loss: 0.0176 - accuracy: 0.9939 - auc: 0.9999 - val_loss: 1.4032 - val_accuracy: 0.7674 - val_auc: 0.8997\n",
      "Epoch 10/20\n",
      "541/541 [==============================] - ETA: 0s - loss: 0.0172 - accuracy: 0.9945 - auc: 0.9998\n",
      "Epoch 10: val_auc did not improve from 0.91618\n",
      "541/541 [==============================] - 85s 157ms/step - loss: 0.0172 - accuracy: 0.9945 - auc: 0.9998 - val_loss: 1.4766 - val_accuracy: 0.7586 - val_auc: 0.8978\n",
      "Epoch 11/20\n",
      "541/541 [==============================] - ETA: 0s - loss: 0.0151 - accuracy: 0.9948 - auc: 0.9999\n",
      "Epoch 11: val_auc did not improve from 0.91618\n",
      "541/541 [==============================] - 85s 158ms/step - loss: 0.0151 - accuracy: 0.9948 - auc: 0.9999 - val_loss: 1.5249 - val_accuracy: 0.7558 - val_auc: 0.8943\n",
      "Epoch 12/20\n",
      "541/541 [==============================] - ETA: 0s - loss: 0.0130 - accuracy: 0.9954 - auc: 0.9999\n",
      "Epoch 12: val_auc did not improve from 0.91618\n",
      "541/541 [==============================] - 85s 157ms/step - loss: 0.0130 - accuracy: 0.9954 - auc: 0.9999 - val_loss: 1.4931 - val_accuracy: 0.7672 - val_auc: 0.8981\n",
      "Epoch 13/20\n",
      "541/541 [==============================] - ETA: 0s - loss: 0.0121 - accuracy: 0.9958 - auc: 0.9999\n",
      "Epoch 13: val_auc did not improve from 0.91618\n",
      "541/541 [==============================] - 85s 158ms/step - loss: 0.0121 - accuracy: 0.9958 - auc: 0.9999 - val_loss: 1.5656 - val_accuracy: 0.7608 - val_auc: 0.8957\n",
      "Epoch 14/20\n",
      "541/541 [==============================] - ETA: 0s - loss: 0.0117 - accuracy: 0.9963 - auc: 0.9999\n",
      "Epoch 14: val_auc did not improve from 0.91618\n",
      "541/541 [==============================] - 85s 157ms/step - loss: 0.0117 - accuracy: 0.9963 - auc: 0.9999 - val_loss: 1.5196 - val_accuracy: 0.7638 - val_auc: 0.8971\n",
      "Epoch 15/20\n",
      "541/541 [==============================] - ETA: 0s - loss: 0.0096 - accuracy: 0.9966 - auc: 0.9999\n",
      "Epoch 15: val_auc did not improve from 0.91618\n",
      "541/541 [==============================] - 85s 157ms/step - loss: 0.0096 - accuracy: 0.9966 - auc: 0.9999 - val_loss: 1.5395 - val_accuracy: 0.7698 - val_auc: 0.8980\n",
      "Epoch 16/20\n",
      "541/541 [==============================] - ETA: 0s - loss: 0.0098 - accuracy: 0.9969 - auc: 0.9999\n",
      "Epoch 16: val_auc did not improve from 0.91618\n",
      "541/541 [==============================] - 85s 157ms/step - loss: 0.0098 - accuracy: 0.9969 - auc: 0.9999 - val_loss: 1.5783 - val_accuracy: 0.7646 - val_auc: 0.8961\n",
      "Epoch 16: early stopping\n"
     ]
    }
   ],
   "source": [
    "\n",
    "model_history = model.fit(train_dataset,\n",
    "                          validation_data=valid_dataset,\n",
    "                          epochs=20, \n",
    "                          callbacks=callback_list,\n",
    "                          verbose=1)"
   ]
  },
  {
   "cell_type": "code",
   "execution_count": 14,
   "id": "6366fb62",
   "metadata": {},
   "outputs": [
    {
     "name": "stdout",
     "output_type": "stream",
     "text": [
      "Found 86437 images belonging to 4 classes.\n",
      "676/676 [==============================] - 78s 114ms/step - loss: 0.3160 - accuracy: 0.9529 - auc: 0.9828\n",
      "Test Loss: 0.3159942626953125, Test Accuracy: 0.9528558254241943, Test AUC: 0.9827597141265869\n"
     ]
    }
   ],
   "source": [
    "\n",
    "# Test Data \n",
    "test_dataset = test_datagen.flow_from_directory(directory='OASISDataset/OASISDataset',\n",
    "                                                target_size=(224, 224),\n",
    "                                                class_mode='categorical',\n",
    "                                                batch_size=128)\n",
    "# Evaluating Loss and AUC\n",
    "evaluation_results = model.evaluate(test_dataset)\n",
    "print(f'Test Loss: {evaluation_results[0]}, Test Accuracy: {evaluation_results[1]}, Test AUC: {evaluation_results[2]}')\n"
   ]
  },
  {
   "cell_type": "code",
   "execution_count": 15,
   "id": "979fd343",
   "metadata": {},
   "outputs": [
    {
     "name": "stdout",
     "output_type": "stream",
     "text": [
      "Found 86437 images belonging to 4 classes.\n",
      "676/676 [==============================] - 74s 109ms/step\n"
     ]
    },
    {
     "data": {
      "image/png": "[encoded data removed]",
      "text/plain": [
       "<Figure size 1000x800 with 1 Axes>"
      ]
     },
     "metadata": {},
     "output_type": "display_data"
    },
    {
     "name": "stdout",
     "output_type": "stream",
     "text": [
      "Accuracy for MildDemented: 0.85\n",
      "Accuracy for ModerateDemented: 1.00\n",
      "Accuracy for NonDemented: 0.98\n",
      "Accuracy for VeryMildDemented: 0.86\n",
      "\n",
      "Classification Report:\n",
      "                  precision    recall  f1-score   support\n",
      "\n",
      "    MildDemented       0.90      0.85      0.87      5002\n",
      "ModerateDemented       0.96      1.00      0.98       488\n",
      "     NonDemented       0.97      0.98      0.97     67222\n",
      "VeryMildDemented       0.88      0.86      0.87     13725\n",
      "\n",
      "        accuracy                           0.95     86437\n",
      "       macro avg       0.93      0.92      0.92     86437\n",
      "    weighted avg       0.95      0.95      0.95     86437\n",
      "\n"
     ]
    }
   ],
   "source": [
    "from sklearn.metrics import confusion_matrix, accuracy_score, classification_report\n",
    "import seaborn as sns\n",
    "\n",
    "# Custom class names\n",
    "class_names = ['MildDemented', 'ModerateDemented', 'NonDemented', 'VeryMildDemented']  # Update with your actual class names\n",
    "\n",
    "# Test Data \n",
    "test_dataset = test_datagen.flow_from_directory(directory='OASISDataset/OASISDataset',\n",
    "                                                target_size=(224, 224),\n",
    "                                                class_mode='categorical',\n",
    "                                                batch_size=128,\n",
    "                                                shuffle=False)  # Ensure predictions match true labels\n",
    "\n",
    "# Get predictions from the model\n",
    "predictions = model.predict(test_dataset)\n",
    "predicted_classes = np.argmax(predictions, axis=1)\n",
    "\n",
    "# Get true labels\n",
    "true_labels = test_dataset.classes\n",
    "\n",
    "# Calculate confusion matrix\n",
    "cm = confusion_matrix(true_labels, predicted_classes)\n",
    "\n",
    "# Plot confusion matrix with custom class names\n",
    "plt.figure(figsize=(10, 8))\n",
    "sns.heatmap(cm, annot=True, fmt='d', cmap='Blues', cbar=False, xticklabels=class_names, yticklabels=class_names)\n",
    "plt.xlabel('Predicted Labels')\n",
    "plt.ylabel('True Labels')\n",
    "plt.title('Confusion Matrix')\n",
    "plt.show()\n",
    "\n",
    "# Calculate accuracy for each class\n",
    "class_accuracy = {}\n",
    "for i, class_name in enumerate(class_names):\n",
    "    true_positives = cm[i, i]\n",
    "    total_samples = np.sum(cm[i, :])\n",
    "    class_accuracy[class_name] = true_positives / total_samples\n",
    "\n",
    "# Print accuracy for each class\n",
    "for class_name, acc in class_accuracy.items():\n",
    "    print(f'Accuracy for {class_name}: {acc:.2f}')\n",
    "\n",
    "# Classification Report\n",
    "report = classification_report(true_labels, predicted_classes, target_names=class_names)\n",
    "print(\"\\nClassification Report:\")\n",
    "print(report)\n"
   ]
  },
  {
   "cell_type": "code",
   "execution_count": 16,
   "id": "077bfbea",
   "metadata": {},
   "outputs": [],
   "source": [
    "model.save('TrainedMObilenetv2.keras')\n",
    "model.save_weights('TrainedMobilenetv2Weights.h5')"
   ]
  }
 ],
 "metadata": {
  "kernelspec": {
   "display_name": "Python 3 (ipykernel)",
   "language": "python",
   "name": "python3"
  },
  "language_info": {
   "codemirror_mode": {
    "name": "ipython",
    "version": 3
   },
   "file_extension": ".py",
   "mimetype": "text/x-python",
   "name": "python",
   "nbconvert_exporter": "python",
   "pygments_lexer": "ipython3",
   "version": "3.10.13"
  }
 },
 "nbformat": 4,
 "nbformat_minor": 5
}
